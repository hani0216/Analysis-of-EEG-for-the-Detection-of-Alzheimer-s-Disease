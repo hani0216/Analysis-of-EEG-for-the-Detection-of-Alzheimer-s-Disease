{
 "cells": [
  {
   "cell_type": "code",
   "execution_count": null,
   "metadata": {
    "vscode": {
     "languageId": "plaintext"
    }
   },
   "outputs": [],
   "source": [
    "import os\n",
    "import numpy as np\n",
    "import pandas as pd\n",
    "\n",
    "def load_eeg_data(data_dir):\n",
    "    rows = []\n",
    "\n",
    "    for condition in ['Healthy', 'AD']:\n",
    "        for state in ['Eyes_open', 'Eyes_closed']:\n",
    "            folder_path = os.path.join(data_dir, condition, state)\n",
    "            if not os.path.exists(folder_path):\n",
    "                print(f\"Directory {folder_path} not found.\")\n",
    "                continue\n",
    "\n",
    "            for paciente in os.listdir(folder_path):\n",
    "                paciente_folder = os.path.join(folder_path, paciente)\n",
    "                if os.path.isdir(paciente_folder):\n",
    "                    for file in os.listdir(paciente_folder):\n",
    "                        if file.endswith('.txt'):\n",
    "                            file_path = os.path.join(paciente_folder, file)\n",
    "                            try:\n",
    "                                data = np.loadtxt(file_path)\n",
    "                                rows.append({\n",
    "                                    'Condition': condition,\n",
    "                                    'State': state,\n",
    "                                    'Patient': paciente,\n",
    "                                    'File': file,\n",
    "                                    'Signal': data\n",
    "                                })\n",
    "                            except Exception as e:\n",
    "                                print(f\"Error loading {file_path}: {e}\")\n",
    "    \n",
    "    eeg_df = pd.DataFrame(rows)\n",
    "    print(\"EEG data loaded successfully. Number of records:\", len(eeg_df))\n",
    "    return eeg_df"
   ]
  },
  {
   "cell_type": "code",
   "execution_count": null,
   "metadata": {
    "vscode": {
     "languageId": "plaintext"
    }
   },
   "outputs": [],
   "source": [
    "# Étape 1 : Charger les données EEG\n",
    "data_dir = \"./EEG_data\"\n",
    "eeg_data_df = load_eeg_data(data_dir)\n",
    "\n",
    "# Étape 2 : Nettoyage des données\n",
    "def clean_data(df):\n",
    "    # Supprimer les lignes avec des valeurs manquantes dans le signal\n",
    "    df = df.dropna(subset=['Signal'])\n",
    "    print(\"Valeurs manquantes supprimées. Nombre de lignes restantes :\", len(df))\n",
    "\n",
    "    # Filtrer les valeurs aberrantes : par exemple, en supprimant les signaux avec des amplitudes extrêmes\n",
    "    df = df[df['Signal'].apply(lambda x: np.all(np.abs(x) < 1000))]  # Exemple de seuil\n",
    "    print(\"Valeurs aberrantes filtrées. Nombre de lignes restantes :\", len(df))\n",
    "\n",
    "    # Normaliser les données si nécessaire\n",
    "    df['Signal'] = df['Signal'].apply(lambda x: (x - np.mean(x)) / np.std(x))\n",
    "    print(\"Les signaux ont été normalisés.\")\n",
    "\n",
    "    return df\n",
    "\n",
    "# Appliquer le nettoyage des données\n",
    "eeg_data_cleaned = clean_data(eeg_data_df)\n"
   ]
  },
  {
   "cell_type": "code",
   "execution_count": null,
   "metadata": {
    "vscode": {
     "languageId": "plaintext"
    }
   },
   "outputs": [],
   "source": [
    "# Afficher les données pour les premiers patients\n",
    "print(eeg_data_df.head())\n"
   ]
  },
  {
   "cell_type": "code",
   "execution_count": null,
   "metadata": {
    "vscode": {
     "languageId": "plaintext"
    }
   },
   "outputs": [],
   "source": [
    "import numpy as np\n",
    "import pandas as pd\n",
    "from sklearn.model_selection import train_test_split\n",
    "from sklearn.tree import DecisionTreeClassifier\n",
    "from sklearn.metrics import classification_report, accuracy_score\n",
    "\n",
    "# Charger les données brutes EEG (supposons que eeg_data_cleaned soit votre DataFrame contenant les signaux bruts)\n",
    "# Nous allons utiliser la colonne 'Signal' comme données d'entrée\n",
    "\n",
    "# Préparation des données\n",
    "def prepare_raw_data(df):\n",
    "    # Les signaux EEG bruts sont des séries de valeurs. Pour simplifier, nous allons les aplatir.\n",
    "    X = np.vstack(df['Signal'].values)  # Transformer la colonne 'Signal' en matrice d'entrée\n",
    "    y = df['Condition'].apply(lambda x: 1 if x == 'AD' else 0)  # 1 pour AD, 0 pour Healthy\n",
    "    return X, y\n",
    "\n",
    "# Appliquer la préparation\n",
    "X, y = prepare_raw_data(eeg_data_cleaned)\n",
    "\n",
    "# Séparer les données en ensembles d'entraînement et de test\n",
    "X_train, X_test, y_train, y_test = train_test_split(X, y, test_size=0.3, random_state=42)\n",
    "\n",
    "# Créer et entraîner le modèle d'arbre de décision\n",
    "model = DecisionTreeClassifier(random_state=42)\n",
    "model.fit(X_train, y_train)\n",
    "print(\"Modèle d'arbre de décision entraîné avec succès.\")\n",
    "\n",
    "# Prédire les résultats sur l'ensemble de test\n",
    "y_pred = model.predict(X_test)\n",
    "\n",
    "# Afficher le rapport de classification et la précision\n",
    "print(\"Classification Report:\\n\", classification_report(y_test, y_pred))\n",
    "print(\"Accuracy:\", accuracy_score(y_test, y_pred))\n",
    "\n",
    "# Affichage de l'arbre de décision\n",
    "from sklearn.tree import export_text\n",
    "tree_text = export_text(model)\n",
    "print(\"Arbre de décision :\\n\", tree_text)\n"
   ]
  },
  {
   "cell_type": "code",
   "execution_count": null,
   "metadata": {
    "vscode": {
     "languageId": "plaintext"
    }
   },
   "outputs": [],
   "source": [
    "import matplotlib.pyplot as plt\n",
    "from sklearn.tree import plot_tree\n",
    "\n",
    "# Afficher l'arbre de décision\n",
    "plt.figure(figsize=(20, 10))  # Ajuster la taille de l'image\n",
    "plot_tree(\n",
    "    model,\n",
    "    feature_names=[f'Feature {i}' for i in range(X.shape[1])],  # Utilisation de noms génériques pour les caractéristiques\n",
    "    class_names=['Healthy', 'AD'],\n",
    "    filled=True,\n",
    "    rounded=True,\n",
    "    fontsize=10\n",
    ")\n",
    "plt.title(\"Arbre de décision - EEG Data\")\n",
    "plt.show()"
   ]
  },
  {
   "cell_type": "code",
   "execution_count": null,
   "metadata": {
    "vscode": {
     "languageId": "plaintext"
    }
   },
   "outputs": [],
   "source": [
    "from sklearn.metrics import accuracy_score\n",
    "\n",
    "# Afficher le rapport de classification\n",
    "print(\"Rapport de classification - Arbre de Décision :\\n\", classification_report(y_test, y_pred))\n",
    "\n",
    "# Calculer l'accuracy sur les données de test\n",
    "accuracy = accuracy_score(y_test, y_pred)\n",
    "\n",
    "# Afficher l'accuracy\n",
    "print(f\"Accuracy du modèle : {accuracy:.2f}\")\n",
    "\n",
    "\n",
    "from sklearn.metrics import confusion_matrix\n",
    "import seaborn as sns\n",
    "import matplotlib.pyplot as plt\n",
    "\n",
    "# Calculer la matrice de confusion\n",
    "cm_decision_tree = confusion_matrix(y_test, y_pred)\n",
    "\n",
    "# Afficher la matrice de confusion\n",
    "plt.figure(figsize=(10, 7))\n",
    "sns.heatmap(cm_decision_tree, annot=True, fmt=\"d\", cmap=\"Greens\", xticklabels=['Healthy', 'AD'], yticklabels=['Healthy', 'AD'])\n",
    "plt.xlabel(\"Prédiction\")\n",
    "plt.ylabel(\"Vraie Classe\")\n",
    "plt.title(\"Matrice de Confusion - Arbre de Décision\")\n",
    "plt.show()\n",
    "\n"
   ]
  },
  {
   "cell_type": "code",
   "execution_count": null,
   "metadata": {
    "vscode": {
     "languageId": "plaintext"
    }
   },
   "outputs": [],
   "source": [
    "from sklearn.ensemble import RandomForestClassifier\n",
    "\n",
    "# Créer et entraîner le modèle de forêt aléatoire\n",
    "random_forest_model = RandomForestClassifier(n_estimators=100, random_state=42)\n",
    "random_forest_model.fit(X_train, y_train)\n",
    "print(\"Modèle de forêt aléatoire entraîné avec succès.\")\n",
    "\n",
    "# Prédire les résultats sur l'ensemble de test\n",
    "y_pred_rf = random_forest_model.predict(X_test)\n",
    "\n",
    "import matplotlib.pyplot as plt\n",
    "from sklearn.tree import plot_tree\n",
    "\n",
    "# Sélectionner un arbre de la forêt aléatoire (par exemple, le premier arbre)\n",
    "plt.figure(figsize=(20, 10))  # Ajuster la taille de l'image\n",
    "plot_tree(\n",
    "    random_forest_model.estimators_[0],  # Premier arbre de la forêt\n",
    "    feature_names=[f'Feature {i}' for i in range(X.shape[1])],  # Utiliser les noms de caractéristiques génériques\n",
    "    class_names=['Healthy', 'AD'],\n",
    "    filled=True,\n",
    "    rounded=True,\n",
    "    fontsize=10\n",
    ")\n",
    "plt.title(\"Affichage de l'arbre - Forêt Aléatoire\")\n",
    "plt.show()\n"
   ]
  },
  {
   "cell_type": "code",
   "execution_count": null,
   "metadata": {
    "vscode": {
     "languageId": "plaintext"
    }
   },
   "outputs": [],
   "source": [
    "from sklearn.metrics import classification_report, accuracy_score\n",
    "\n",
    "# Afficher le rapport de classification\n",
    "print(\"Rapport de classification - Forêt Aléatoire :\\n\", classification_report(y_test, y_pred_rf))\n",
    "print(\"Accuracy (précision) de la Forêt Aléatoire :\", accuracy_score(y_test, y_pred_rf))\n",
    "\n",
    "from sklearn.metrics import confusion_matrix\n",
    "import seaborn as sns\n",
    "\n",
    "# Calculer la matrice de confusion\n",
    "cm = confusion_matrix(y_test, y_pred_rf)\n",
    "\n",
    "# Afficher la matrice de confusion sous forme graphique\n",
    "plt.figure(figsize=(10, 7))\n",
    "sns.heatmap(cm, annot=True, fmt=\"d\", cmap=\"Blues\", xticklabels=['Healthy', 'AD'], yticklabels=['Healthy', 'AD'])\n",
    "plt.xlabel(\"Prédiction\")\n",
    "plt.ylabel(\"Vraie Classe\")\n",
    "plt.title(\"Matrice de Confusion - Forêt Aléatoire\")\n",
    "plt.show()\n",
    "\n"
   ]
  },
  {
   "cell_type": "code",
   "execution_count": null,
   "metadata": {
    "vscode": {
     "languageId": "plaintext"
    }
   },
   "outputs": [],
   "source": [
    "from sklearn.neighbors import KNeighborsClassifier\n",
    "from sklearn.metrics import classification_report, accuracy_score, confusion_matrix\n",
    "import seaborn as sns\n",
    "import matplotlib.pyplot as plt\n",
    "\n",
    "# Étape 1 : Créer et entraîner le modèle KNN\n",
    "knn_model = KNeighborsClassifier(n_neighbors=5)  # Nombre de voisins ajustable\n",
    "knn_model.fit(X_train, y_train)\n",
    "print(\"Modèle KNN entraîné avec succès.\")\n",
    "\n",
    "# Étape 2 : Prédire les résultats sur l'ensemble de test\n",
    "y_pred_knn = knn_model.predict(X_test)\n",
    "\n",
    "# Étape 3 : Afficher les premières prédictions et les étiquettes réelles correspondantes\n",
    "print(\"Prédictions KNN sur les premières données de test :\")\n",
    "for i in range(5):  # Afficher les 5 premières prédictions\n",
    "    print(f\"Prédiction : {y_pred_knn[i]}, Véritable étiquette : {y_test.iloc[i]}\")\n",
    "\n",
    "# Étape 4 : Calculer et afficher l'accuracy\n",
    "accuracy_knn = accuracy_score(y_test, y_pred_knn)\n",
    "print(f\"Accuracy du modèle KNN : {accuracy_knn:.2f}\")\n",
    "\n",
    "# Étape 5 : Afficher le rapport de classification\n",
    "print(\"Rapport de classification - KNN :\\n\", classification_report(y_test, y_pred_knn))\n",
    "\n",
    "# Étape 6 : Matrice de Confusion\n",
    "cm_knn = confusion_matrix(y_test, y_pred_knn)\n",
    "\n",
    "# Afficher la matrice de confusion pour KNN\n",
    "plt.figure(figsize=(10, 7))\n",
    "sns.heatmap(cm_knn, annot=True, fmt=\"d\", cmap=\"Blues\", xticklabels=['Healthy', 'AD'], yticklabels=['Healthy', 'AD'])\n",
    "plt.xlabel(\"Prédiction\")\n",
    "plt.ylabel(\"Vraie Classe\")\n",
    "plt.title(\"Matrice de Confusion - KNN\")\n",
    "plt.show()\n"
   ]
  },
  {
   "cell_type": "code",
   "execution_count": null,
   "metadata": {
    "vscode": {
     "languageId": "plaintext"
    }
   },
   "outputs": [],
   "source": [
    "from sklearn.svm import SVC\n",
    "from sklearn.metrics import classification_report, accuracy_score, confusion_matrix\n",
    "import seaborn as sns\n",
    "import matplotlib.pyplot as plt\n",
    "\n",
    "# Étape 1 : Créer et entraîner le modèle SVM\n",
    "svm_model = SVC(kernel='linear', random_state=42)  # Utilisation d'un noyau linéaire\n",
    "svm_model.fit(X_train, y_train)\n",
    "print(\"Modèle SVM entraîné avec succès.\")\n",
    "\n",
    "# Étape 2 : Prédire les résultats sur l'ensemble de test\n",
    "y_pred_svm = svm_model.predict(X_test)\n",
    "\n",
    "# Étape 3 : Afficher les premières prédictions et les étiquettes réelles correspondantes\n",
    "print(\"Prédictions SVM sur les premières données de test :\")\n",
    "for i in range(5):  # Afficher les 5 premières prédictions\n",
    "    print(f\"Prédiction : {y_pred_svm[i]}, Véritable étiquette : {y_test.iloc[i]}\")\n",
    "\n",
    "# Étape 4 : Calculer et afficher l'accuracy\n",
    "accuracy_svm = accuracy_score(y_test, y_pred_svm)\n",
    "print(f\"Accuracy du modèle SVM : {accuracy_svm:.2f}\")\n",
    "\n",
    "# Étape 5 : Afficher le rapport de classification\n",
    "print(\"Rapport de classification - SVM :\\n\", classification_report(y_test, y_pred_svm))\n",
    "\n",
    "# Étape 6 : Matrice de Confusion\n",
    "cm_svm = confusion_matrix(y_test, y_pred_svm)\n",
    "\n",
    "# Afficher la matrice de confusion pour SVM\n",
    "plt.figure(figsize=(10, 7))\n",
    "sns.heatmap(cm_svm, annot=True, fmt=\"d\", cmap=\"Greens\", xticklabels=['Healthy', 'AD'], yticklabels=['Healthy', 'AD'])\n",
    "plt.xlabel(\"Prédiction\")\n",
    "plt.ylabel(\"Vraie Classe\")\n",
    "plt.title(\"Matrice de Confusion - SVM\")\n",
    "plt.show()\n"
   ]
  }
 ],
 "metadata": {
  "language_info": {
   "name": "python"
  }
 },
 "nbformat": 4,
 "nbformat_minor": 2
}
