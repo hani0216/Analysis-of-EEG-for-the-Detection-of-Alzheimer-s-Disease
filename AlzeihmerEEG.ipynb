{
 "cells": [
  {
   "cell_type": "code",
   "execution_count": null,
   "metadata": {
    "vscode": {
     "languageId": "plaintext"
    }
   },
   "outputs": [],
   "source": [
    "import os\n",
    "import numpy as np\n",
    "import pandas as pd\n",
    "\n",
    "def load_eeg_data(data_dir):\n",
    "    rows = []\n",
    "\n",
    "    for condition in ['Healthy', 'AD']:\n",
    "        for state in ['Eyes_open', 'Eyes_closed']:\n",
    "            folder_path = os.path.join(data_dir, condition, state)\n",
    "            if not os.path.exists(folder_path):\n",
    "                print(f\"Directory {folder_path} not found.\")\n",
    "                continue\n",
    "\n",
    "            for paciente in os.listdir(folder_path):\n",
    "                paciente_folder = os.path.join(folder_path, paciente)\n",
    "                if os.path.isdir(paciente_folder):\n",
    "                    for file in os.listdir(paciente_folder):\n",
    "                        if file.endswith('.txt'):\n",
    "                            file_path = os.path.join(paciente_folder, file)\n",
    "                            try:\n",
    "                                data = np.loadtxt(file_path)\n",
    "                                rows.append({\n",
    "                                    'Condition': condition,\n",
    "                                    'State': state,\n",
    "                                    'Patient': paciente,\n",
    "                                    'File': file,\n",
    "                                    'Signal': data\n",
    "                                })\n",
    "                            except Exception as e:\n",
    "                                print(f\"Error loading {file_path}: {e}\")\n",
    "    \n",
    "    eeg_df = pd.DataFrame(rows)\n",
    "    print(\"EEG data loaded successfully. Number of records:\", len(eeg_df))\n",
    "    return eeg_df"
   ]
  },
  {
   "cell_type": "code",
   "execution_count": null,
   "metadata": {
    "vscode": {
     "languageId": "plaintext"
    }
   },
   "outputs": [],
   "source": []
  }
 ],
 "metadata": {
  "language_info": {
   "name": "python"
  }
 },
 "nbformat": 4,
 "nbformat_minor": 2
}
